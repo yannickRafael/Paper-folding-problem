{
 "cells": [
  {
   "cell_type": "code",
   "execution_count": 1,
   "id": "32caef4e-7064-4a04-9fca-4062df7b730c",
   "metadata": {},
   "outputs": [],
   "source": [
    "def thickness_of_the_paper_folded(thickness, times):\n",
    "    return ((thickness * (2 ** times))/1000)\n",
    "\n"
   ]
  },
  {
   "cell_type": "code",
   "execution_count": 2,
   "id": "c48d1c85-2016-4246-90c9-c17a699778f7",
   "metadata": {},
   "outputs": [
    {
     "name": "stdin",
     "output_type": "stream",
     "text": [
      "Insert the thickness of the paper to be folded:  0.00008\n",
      "how many times should the paper to be folded?:  43\n"
     ]
    }
   ],
   "source": [
    "thickness = float(input(\"Insert the thickness of the paper to be folded: \"))\n",
    "times = int(input(\"how many times should the paper to be folded?: \"))\n"
   ]
  },
  {
   "cell_type": "code",
   "execution_count": 3,
   "id": "ef322775-ce62-4415-8c5d-3bbffcbb894e",
   "metadata": {},
   "outputs": [],
   "source": [
    "result: float\n",
    "result = thickness_of_the_paper_folded(thickness, times)\n"
   ]
  },
  {
   "cell_type": "code",
   "execution_count": 4,
   "id": "aac3e2d6-e044-47b8-82fa-d748b342fcf6",
   "metadata": {},
   "outputs": [
    {
     "name": "stdout",
     "output_type": "stream",
     "text": [
      "The thickness of the paper folded 43 times is 703687.44177664\n"
     ]
    }
   ],
   "source": [
    "print(f\"The thickness of the paper folded {times} times is {result}\")\n"
   ]
  },
  {
   "cell_type": "code",
   "execution_count": null,
   "id": "2f9dd9d6-6fc0-4287-9433-cce7081471ec",
   "metadata": {},
   "outputs": [],
   "source": []
  }
 ],
 "metadata": {
  "kernelspec": {
   "display_name": "Python 3 (ipykernel)",
   "language": "python",
   "name": "python3"
  },
  "language_info": {
   "codemirror_mode": {
    "name": "ipython",
    "version": 3
   },
   "file_extension": ".py",
   "mimetype": "text/x-python",
   "name": "python",
   "nbconvert_exporter": "python",
   "pygments_lexer": "ipython3",
   "version": "3.10.12"
  }
 },
 "nbformat": 4,
 "nbformat_minor": 5
}

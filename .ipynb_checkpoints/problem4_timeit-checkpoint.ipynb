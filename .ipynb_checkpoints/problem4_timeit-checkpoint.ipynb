{
 "cells": [
  {
   "cell_type": "code",
   "execution_count": 1,
   "id": "bcf52e31-6622-407a-a385-b11a596c7bdb",
   "metadata": {},
   "outputs": [],
   "source": [
    "#method 1 from the problem 2\n",
    "def thickness_of_the_paper_folded1(thickness, times):\n",
    "    \n",
    "    return ((thickness * (2 ** times))/1000)"
   ]
  },
  {
   "cell_type": "code",
   "execution_count": 2,
   "id": "40206a57-c731-4af3-8948-c452be6e2978",
   "metadata": {},
   "outputs": [],
   "source": [
    "#method 2 from the problem 3\n",
    "def thickness_of_the_paper_folded2(thickness, times):\n",
    "    a = 1\n",
    "    for i in range(0, times):\n",
    "        a = 2 * a\n",
    "    return (thickness*a)/1000"
   ]
  },
  {
   "cell_type": "code",
   "execution_count": 3,
   "id": "b686842f-f3ee-4f6a-8724-fb5a380500f2",
   "metadata": {},
   "outputs": [
    {
     "name": "stdout",
     "output_type": "stream",
     "text": [
      "682 ns ± 26.3 ns per loop (mean ± std. dev. of 7 runs, 1,000,000 loops each)\n"
     ]
    }
   ],
   "source": [
    "%timeit thickness_of_the_paper_folded1(0.5, 3)"
   ]
  },
  {
   "cell_type": "markdown",
   "id": "b083bca1-ab9f-47af-bd49-40d3ccc65ec0",
   "metadata": {},
   "source": [
    "This means that the code being timed took an average of 682 nanoseconds to execute per loop"
   ]
  },
  {
   "cell_type": "code",
   "execution_count": 4,
   "id": "c32c7721-960e-4a7b-85ed-54663f3d7fe6",
   "metadata": {},
   "outputs": [
    {
     "name": "stdout",
     "output_type": "stream",
     "text": [
      "622 ns ± 13.8 ns per loop (mean ± std. dev. of 7 runs, 1,000,000 loops each)\n"
     ]
    }
   ],
   "source": [
    "%timeit thickness_of_the_paper_folded2(0.5, 3)"
   ]
  },
  {
   "cell_type": "markdown",
   "id": "91d957f1-561d-4b61-bb49-d504c75ba1ad",
   "metadata": {},
   "source": [
    "This means that the code being timed took an average of 622 nanoseconds to execute per loop"
   ]
  },
  {
   "cell_type": "markdown",
   "id": "eda5864f-f264-417a-8e74-c7f81d5f637f",
   "metadata": {},
   "source": [
    "therefore, we can conclude that the method 2 is slightly faster"
   ]
  },
  {
   "cell_type": "code",
   "execution_count": null,
   "id": "da14f95d-6d74-402a-a7a9-86717b939a04",
   "metadata": {},
   "outputs": [],
   "source": []
  }
 ],
 "metadata": {
  "kernelspec": {
   "display_name": "Python 3 (ipykernel)",
   "language": "python",
   "name": "python3"
  },
  "language_info": {
   "codemirror_mode": {
    "name": "ipython",
    "version": 3
   },
   "file_extension": ".py",
   "mimetype": "text/x-python",
   "name": "python",
   "nbconvert_exporter": "python",
   "pygments_lexer": "ipython3",
   "version": "3.10.12"
  }
 },
 "nbformat": 4,
 "nbformat_minor": 5
}

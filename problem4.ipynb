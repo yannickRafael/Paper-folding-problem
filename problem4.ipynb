{
 "cells": [
  {
   "cell_type": "code",
   "execution_count": 5,
   "id": "0bc7798f-e07b-4532-a09f-208469c27f24",
   "metadata": {},
   "outputs": [],
   "source": [
    "import time\n"
   ]
  },
  {
   "cell_type": "code",
   "execution_count": 6,
   "id": "64e73076-fbe1-4492-8821-c6c33845fba8",
   "metadata": {},
   "outputs": [],
   "source": [
    "def first_method(thickness, times):\n",
    "    start_time = time.time()\n",
    "    r = ((thickness * (2 ** times))/1000)\n",
    "    elapsed = time.time() - start_time\n",
    "    return r, elapsed"
   ]
  },
  {
   "cell_type": "code",
   "execution_count": 7,
   "id": "16e06298-f0fc-4aae-833b-93e307e7b581",
   "metadata": {},
   "outputs": [],
   "source": [
    "def second_method(thickness, times):\n",
    "    start_time = time.time()\n",
    "    a = 1\n",
    "    for i in range(0, times):\n",
    "        a = 2 * a\n",
    "    r = (thickness*a)/1000\n",
    "    elapsed = time.time()-start_time\n",
    "    return r, elapsed"
   ]
  },
  {
   "cell_type": "code",
   "execution_count": 8,
   "id": "fca28b50-e3af-4e77-8f62-c173f78e660c",
   "metadata": {},
   "outputs": [
    {
     "name": "stdin",
     "output_type": "stream",
     "text": [
      "Insert the thickness of the paper to be folded:  0.00008\n",
      "how many times should the paper to be folded?:  43\n"
     ]
    }
   ],
   "source": [
    "thickness = float(input(\"Insert the thickness of the paper to be folded: \"))\n",
    "times = int(input(\"how many times should the paper to be folded?: \"))\n"
   ]
  },
  {
   "cell_type": "code",
   "execution_count": 9,
   "id": "7513a1f7-3ee4-4cfb-89ca-28d70c5cc672",
   "metadata": {},
   "outputs": [],
   "source": [
    "result_method1, elapsed1 = first_method(thickness, times)\n",
    "result_method2, elapsed2 = second_method(thickness, times)\n"
   ]
  },
  {
   "cell_type": "code",
   "execution_count": 10,
   "id": "c37518f4-9058-41f0-a326-f228405d3cfd",
   "metadata": {},
   "outputs": [
    {
     "name": "stdout",
     "output_type": "stream",
     "text": [
      "\n",
      "*The first method(problem2) gave the following result 703687.44177664, with\n",
      " in the following time 5.245208740234375e-06\n",
      "*The second method(problem3) gave the following result 703687.44177664, with\n",
      " in the following time 1.0251998901367188e-05\n",
      "\n",
      "\n"
     ]
    }
   ],
   "source": [
    "print(f'''\n",
    "*The first method(problem2) gave the following result {result_method1}, with\n",
    " in the following time {elapsed1}\n",
    "*The second method(problem3) gave the following result {result_method2}, with\n",
    " in the following time {elapsed2}\n",
    "\n",
    "''')"
   ]
  },
  {
   "cell_type": "code",
   "execution_count": null,
   "id": "323dac38-1142-45c8-833e-9067c0b23bf5",
   "metadata": {},
   "outputs": [],
   "source": []
  }
 ],
 "metadata": {
  "kernelspec": {
   "display_name": "Python 3 (ipykernel)",
   "language": "python",
   "name": "python3"
  },
  "language_info": {
   "codemirror_mode": {
    "name": "ipython",
    "version": 3
   },
   "file_extension": ".py",
   "mimetype": "text/x-python",
   "name": "python",
   "nbconvert_exporter": "python",
   "pygments_lexer": "ipython3",
   "version": "3.10.12"
  }
 },
 "nbformat": 4,
 "nbformat_minor": 5
}

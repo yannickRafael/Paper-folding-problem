{
 "cells": [
  {
   "cell_type": "code",
   "execution_count": 1,
   "id": "6249e6fe-6db8-4c1a-8aea-a04700c9b02d",
   "metadata": {},
   "outputs": [],
   "source": [
    "def thickness_of_the_paper_folded(thickness, times):\n",
    "    list = []\n",
    "    list.append(thickness)\n",
    "    a = 1\n",
    "    for i in range(0, times):\n",
    "        a = 2 * a\n",
    "        t =  (thickness*a)/1000\n",
    "        list.append(t)\n",
    "    return list"
   ]
  },
  {
   "cell_type": "code",
   "execution_count": 2,
   "id": "df4dde8e-c5f0-4ef7-afc8-1c014e5a30f5",
   "metadata": {},
   "outputs": [
    {
     "name": "stdin",
     "output_type": "stream",
     "text": [
      "Insert the thickness of the paper to be folded:  0.00008\n",
      "how many times should the paper to be folded?:  43\n"
     ]
    }
   ],
   "source": [
    "thickness = float(input(\"Insert the thickness of the paper to be folded: \"))\n",
    "times = int(input(\"how many times should the paper to be folded?: \"))\n"
   ]
  },
  {
   "cell_type": "code",
   "execution_count": 3,
   "id": "5349f52e-f995-4eab-8cab-7f11a26bdb41",
   "metadata": {},
   "outputs": [],
   "source": [
    "result: float\n",
    "list = thickness_of_the_paper_folded(thickness, times)\n",
    "result = list[-1]"
   ]
  },
  {
   "cell_type": "code",
   "execution_count": 4,
   "id": "bd09ad74-053f-4966-a655-52371d6f90c1",
   "metadata": {},
   "outputs": [
    {
     "name": "stdout",
     "output_type": "stream",
     "text": [
      "The thickness of the paper folded 43 times is 703687.44\n",
      "          The length of the list is 44\n",
      "\n",
      "703687.44177664\n"
     ]
    }
   ],
   "source": [
    "print(f'''The thickness of the paper folded {times} times is {result:.2f}\n",
    "          The length of the list is {len(list)}\n",
    "''')\n",
    "print(result)"
   ]
  },
  {
   "cell_type": "code",
   "execution_count": null,
   "id": "8b08c7fe-3f16-4268-bbfa-1b3752866e35",
   "metadata": {},
   "outputs": [],
   "source": []
  }
 ],
 "metadata": {
  "kernelspec": {
   "display_name": "Python 3 (ipykernel)",
   "language": "python",
   "name": "python3"
  },
  "language_info": {
   "codemirror_mode": {
    "name": "ipython",
    "version": 3
   },
   "file_extension": ".py",
   "mimetype": "text/x-python",
   "name": "python",
   "nbconvert_exporter": "python",
   "pygments_lexer": "ipython3",
   "version": "3.10.12"
  }
 },
 "nbformat": 4,
 "nbformat_minor": 5
}
